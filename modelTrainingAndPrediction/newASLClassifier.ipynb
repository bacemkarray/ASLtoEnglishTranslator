{
 "cells": [
  {
   "cell_type": "code",
   "execution_count": 3,
   "id": "8e223921-7ffd-4516-b872-756afba58af1",
   "metadata": {},
   "outputs": [],
   "source": [
    "import os\n",
    "local_directory = \"/mnt/c/Users/bkarr/OneDrive/Desktop/Projects/aslToEnglish/AtoZData\"\n",
    "\n",
    "for dirname, _, filenames in os.walk(local_directory):\n",
    "    for filename in filenames:\n",
    "        file_path = os.path.join(dirname, filename)"
   ]
  },
  {
   "cell_type": "code",
   "execution_count": 10,
   "id": "9b86a151-0694-46da-b96d-e4040209e831",
   "metadata": {},
   "outputs": [],
   "source": [
    "import numpy as np\n",
    "import pandas as pd\n",
    "import matplotlib.pyplot as plt\n",
    "from pathlib import Path\n",
    "import os.path\n",
    "\n",
    "from sklearn.model_selection import train_test_split\n",
    "from tensorflow.keras.preprocessing.image import ImageDataGenerator\n",
    "import tensorflow as tf\n",
    "tf.config.list_physical_devices('GPU')\n",
    "\n",
    "from sklearn.metrics import accuracy_score, f1_score\n",
    "\n",
    "from flask import Flask, request, jsonify\n",
    "from flask_cors import CORS  # Import the CORS module\n",
    "import cv2\n",
    "import base64\n",
    "import mediapipe as mp\n",
    "from io import BytesIO\n",
    "from PIL import Image"
   ]
  },
  {
   "cell_type": "code",
   "execution_count": 5,
   "id": "7dd834ac-ee86-45c7-b30b-bd38bf17b655",
   "metadata": {},
   "outputs": [],
   "source": [
    "def imgPaths(filepath):\n",
    "\n",
    "    labels = [str(filepath[i]).split(\"/\")[-2] \\\n",
    "              for i in range(len(filepath))]\n",
    "\n",
    "    filepath = pd.Series(filepath, name='Filepath').astype(str)\n",
    "    labels = pd.Series(labels, name='Label')\n",
    "\n",
    "    # Concatenate filepaths and labels\n",
    "    df = pd.concat([filepath, labels], axis=1)\n",
    "\n",
    "    # Shuffle the DataFrame and reset index\n",
    "    df = df.sample(frac=1).reset_index(drop = True)\n",
    "    \n",
    "    return df"
   ]
  },
  {
   "cell_type": "code",
   "execution_count": 8,
   "id": "02007831-0800-4042-9d0b-a93afd2f2be9",
   "metadata": {},
   "outputs": [],
   "source": [
    "# Create Variables\n",
    "train_image_dir = Path(\"/mnt/c/Users/bkarr/OneDrive/Desktop/Projects/aslToEnglish/AtoZData\")\n",
    "train_filepaths = list(train_image_dir.glob(r'**/*.jpg'))\n",
    "\n",
    "# Create df\n",
    "train_df = imgPaths(train_filepaths)\n",
    "\n",
    "df_unique = train_df.copy().drop_duplicates(subset=[\"Label\"]).reset_index()"
   ]
  },
  {
   "cell_type": "code",
   "execution_count": 9,
   "id": "c4f26f03-43e6-4da4-b1f6-3e5a1692098b",
   "metadata": {},
   "outputs": [
    {
     "name": "stdout",
     "output_type": "stream",
     "text": [
      "Found 3745 validated image filenames belonging to 26 classes.\n",
      "Found 936 validated image filenames belonging to 26 classes.\n"
     ]
    }
   ],
   "source": [
    "train_generator = tf.keras.preprocessing.image.ImageDataGenerator(\n",
    "    preprocessing_function=tf.keras.applications.mobilenet_v2.preprocess_input,\n",
    "    validation_split=0.2,\n",
    "    horizontal_flip = True,\n",
    "    brightness_range=(0.75, 1.3),\n",
    "    rotation_range=20,\n",
    ")\n",
    "\n",
    "train_images = train_generator.flow_from_dataframe(\n",
    "    dataframe=train_df,\n",
    "    x_col='Filepath',\n",
    "    y_col='Label',\n",
    "    target_size=(224, 224),\n",
    "    color_mode='rgb',\n",
    "    class_mode='categorical',\n",
    "    batch_size=32,\n",
    "    shuffle=True,\n",
    "    seed=42,\n",
    "    subset='training'\n",
    ")\n",
    "\n",
    "val_images = train_generator.flow_from_dataframe(\n",
    "    dataframe=train_df,\n",
    "    x_col='Filepath',\n",
    "    y_col='Label',\n",
    "    target_size=(224, 224),\n",
    "    color_mode='rgb',\n",
    "    class_mode='categorical',\n",
    "    batch_size=32,\n",
    "    shuffle=True,\n",
    "    seed=42,\n",
    "    subset='validation'\n",
    ")\n",
    "\n",
    "pretrainedModel = tf.keras.applications.MobileNetV2(\n",
    "    input_shape=(224, 224, 3),\n",
    "     include_top=False,\n",
    "     weights='imagenet',\n",
    "     pooling='avg'\n",
    ")\n",
    "\n",
    "pretrainedModel.trainable = False"
   ]
  },
  {
   "cell_type": "code",
   "execution_count": null,
   "id": "696510cf-5b2b-4eaa-9988-9fe6fb316a8a",
   "metadata": {},
   "outputs": [],
   "source": [
    "inputs = pretrainedModel.input\n",
    "\n",
    "x = tf.keras.layers.Dense(128, activation='relu')(pretrainedModel.output)\n",
    "x = tf.keras.layers.Dense(128, activation='relu')(x)\n",
    "\n",
    "outputs = tf.keras.layers.Dense(26, activation='softmax')(x)\n",
    "\n",
    "model = tf.keras.Model(inputs=inputs, outputs=outputs)\n",
    "\n",
    "adam = tf.keras.optimizers.Adam(\n",
    "    learning_rate=0.001, beta_1=0.9, beta_2=0.999, epsilon=1e-07, amsgrad=False,\n",
    "    name='Adam'\n",
    ")\n",
    "\n",
    "model.compile(\n",
    "    optimizer=adam,\n",
    "    loss='categorical_crossentropy',\n",
    "    metrics=['accuracy']\n",
    ")\n",
    "\n",
    "history = model.fit(\n",
    "    train_images,\n",
    "    validation_data=val_images,\n",
    "    epochs=30,\n",
    "    callbacks=[\n",
    "         tf.keras.callbacks.EarlyStopping(\n",
    "            monitor='val_loss',\n",
    "            patience=2,\n",
    "            restore_best_weights=True\n",
    "        )\n",
    "     ]\n",
    " )"
   ]
  },
  {
   "cell_type": "code",
   "execution_count": null,
   "id": "a0d29e69-0d94-4ab4-922a-734bfee363d5",
   "metadata": {},
   "outputs": [],
   "source": [
    "model.save('lineASLClassifier.h5')"
   ]
  },
  {
   "cell_type": "code",
   "execution_count": null,
   "id": "7304690c-bde3-4877-ac91-c38e07663080",
   "metadata": {},
   "outputs": [],
   "source": [
    "# %run frameAndPredictionHandling.py\n",
    "%run predictionHandler.py"
   ]
  },
  {
   "cell_type": "code",
   "execution_count": null,
   "id": "a385eb26-c7ad-4744-8f19-7ea0ed53d5da",
   "metadata": {},
   "outputs": [],
   "source": []
  }
 ],
 "metadata": {
  "kernelspec": {
   "display_name": "Python 3 (ipykernel)",
   "language": "python",
   "name": "python3"
  },
  "language_info": {
   "codemirror_mode": {
    "name": "ipython",
    "version": 3
   },
   "file_extension": ".py",
   "mimetype": "text/x-python",
   "name": "python",
   "nbconvert_exporter": "python",
   "pygments_lexer": "ipython3",
   "version": "3.9.20"
  }
 },
 "nbformat": 4,
 "nbformat_minor": 5
}
